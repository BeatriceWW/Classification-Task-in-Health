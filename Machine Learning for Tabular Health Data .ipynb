{
 "cells": [
  {
   "cell_type": "markdown",
   "id": "2ed73b6e",
   "metadata": {},
   "source": [
    "# Machine Learning Fundamentals in Healthcare Project\n",
    "\n",
    "###  Classification Task to Predict Death Through Heart Failure \n",
    "\n",
    "**Dataset** : Heart Failure Clinical Records \n",
    "\n",
    "This dataset contains the medical records of 299 patients who had heart failure, collected during their follow-up period, where each patient profile has 13 clinical features.\n",
    "\n",
    "**Source**: https://archive.ics.uci.edu/dataset/519/heart+failure+clinical+records"
   ]
  },
  {
   "cell_type": "code",
   "execution_count": 1,
   "id": "d2b9fc0b",
   "metadata": {},
   "outputs": [],
   "source": [
    "# Import Libraries \n",
    "import pandas as pd \n",
    "import seaborn as sns \n",
    "import matplotlib.pyplot as plt \n",
    "%matplotlib inline\n",
    "import numpy as np \n",
    "\n",
    "# For spliting data into train and test sets \n",
    "from sklearn.model_selection import train_test_split\n",
    "\n",
    "# For data preprocessing \n",
    "from sklearn.preprocessing import StandardScaler\n",
    "\n",
    "# Models \n",
    "from sklearn.linear_model import LogisticRegression\n",
    "from sklearn.svm import SVC\n",
    "from sklearn.tree import DecisionTreeClassifier\n",
    "from sklearn.ensemble import RandomForestClassifier \n",
    "from sklearn.neighbors import KNeighborsClassifier\n",
    "\n",
    "# For Model evaluation \n",
    "from sklearn.metrics import accuracy_score, classification_report\n",
    "\n",
    "import warnings\n",
    "warnings.filterwarnings(\"ignore\")"
   ]
  },
  {
   "cell_type": "code",
   "execution_count": 2,
   "id": "3d76f613",
   "metadata": {},
   "outputs": [],
   "source": [
    "# Load data in a data frame\n",
    "\n",
    "df = pd.read_csv('heart_failure_clinical_records_dataset.csv')"
   ]
  },
  {
   "cell_type": "code",
   "execution_count": 3,
   "id": "72db9d2b",
   "metadata": {},
   "outputs": [
    {
     "data": {
      "text/html": [
       "<div>\n",
       "<style scoped>\n",
       "    .dataframe tbody tr th:only-of-type {\n",
       "        vertical-align: middle;\n",
       "    }\n",
       "\n",
       "    .dataframe tbody tr th {\n",
       "        vertical-align: top;\n",
       "    }\n",
       "\n",
       "    .dataframe thead th {\n",
       "        text-align: right;\n",
       "    }\n",
       "</style>\n",
       "<table border=\"1\" class=\"dataframe\">\n",
       "  <thead>\n",
       "    <tr style=\"text-align: right;\">\n",
       "      <th></th>\n",
       "      <th>age</th>\n",
       "      <th>anaemia</th>\n",
       "      <th>creatinine_phosphokinase</th>\n",
       "      <th>diabetes</th>\n",
       "      <th>ejection_fraction</th>\n",
       "      <th>high_blood_pressure</th>\n",
       "      <th>platelets</th>\n",
       "      <th>serum_creatinine</th>\n",
       "      <th>serum_sodium</th>\n",
       "      <th>sex</th>\n",
       "      <th>smoking</th>\n",
       "      <th>time</th>\n",
       "      <th>DEATH_EVENT</th>\n",
       "    </tr>\n",
       "  </thead>\n",
       "  <tbody>\n",
       "    <tr>\n",
       "      <th>0</th>\n",
       "      <td>75.0</td>\n",
       "      <td>0</td>\n",
       "      <td>582</td>\n",
       "      <td>0</td>\n",
       "      <td>20</td>\n",
       "      <td>1</td>\n",
       "      <td>265000.00</td>\n",
       "      <td>1.9</td>\n",
       "      <td>130</td>\n",
       "      <td>1</td>\n",
       "      <td>0</td>\n",
       "      <td>4</td>\n",
       "      <td>1</td>\n",
       "    </tr>\n",
       "    <tr>\n",
       "      <th>1</th>\n",
       "      <td>55.0</td>\n",
       "      <td>0</td>\n",
       "      <td>7861</td>\n",
       "      <td>0</td>\n",
       "      <td>38</td>\n",
       "      <td>0</td>\n",
       "      <td>263358.03</td>\n",
       "      <td>1.1</td>\n",
       "      <td>136</td>\n",
       "      <td>1</td>\n",
       "      <td>0</td>\n",
       "      <td>6</td>\n",
       "      <td>1</td>\n",
       "    </tr>\n",
       "    <tr>\n",
       "      <th>2</th>\n",
       "      <td>65.0</td>\n",
       "      <td>0</td>\n",
       "      <td>146</td>\n",
       "      <td>0</td>\n",
       "      <td>20</td>\n",
       "      <td>0</td>\n",
       "      <td>162000.00</td>\n",
       "      <td>1.3</td>\n",
       "      <td>129</td>\n",
       "      <td>1</td>\n",
       "      <td>1</td>\n",
       "      <td>7</td>\n",
       "      <td>1</td>\n",
       "    </tr>\n",
       "    <tr>\n",
       "      <th>3</th>\n",
       "      <td>50.0</td>\n",
       "      <td>1</td>\n",
       "      <td>111</td>\n",
       "      <td>0</td>\n",
       "      <td>20</td>\n",
       "      <td>0</td>\n",
       "      <td>210000.00</td>\n",
       "      <td>1.9</td>\n",
       "      <td>137</td>\n",
       "      <td>1</td>\n",
       "      <td>0</td>\n",
       "      <td>7</td>\n",
       "      <td>1</td>\n",
       "    </tr>\n",
       "    <tr>\n",
       "      <th>4</th>\n",
       "      <td>65.0</td>\n",
       "      <td>1</td>\n",
       "      <td>160</td>\n",
       "      <td>1</td>\n",
       "      <td>20</td>\n",
       "      <td>0</td>\n",
       "      <td>327000.00</td>\n",
       "      <td>2.7</td>\n",
       "      <td>116</td>\n",
       "      <td>0</td>\n",
       "      <td>0</td>\n",
       "      <td>8</td>\n",
       "      <td>1</td>\n",
       "    </tr>\n",
       "  </tbody>\n",
       "</table>\n",
       "</div>"
      ],
      "text/plain": [
       "    age  anaemia  creatinine_phosphokinase  diabetes  ejection_fraction  \\\n",
       "0  75.0        0                       582         0                 20   \n",
       "1  55.0        0                      7861         0                 38   \n",
       "2  65.0        0                       146         0                 20   \n",
       "3  50.0        1                       111         0                 20   \n",
       "4  65.0        1                       160         1                 20   \n",
       "\n",
       "   high_blood_pressure  platelets  serum_creatinine  serum_sodium  sex  \\\n",
       "0                    1  265000.00               1.9           130    1   \n",
       "1                    0  263358.03               1.1           136    1   \n",
       "2                    0  162000.00               1.3           129    1   \n",
       "3                    0  210000.00               1.9           137    1   \n",
       "4                    0  327000.00               2.7           116    0   \n",
       "\n",
       "   smoking  time  DEATH_EVENT  \n",
       "0        0     4            1  \n",
       "1        0     6            1  \n",
       "2        1     7            1  \n",
       "3        0     7            1  \n",
       "4        0     8            1  "
      ]
     },
     "execution_count": 3,
     "metadata": {},
     "output_type": "execute_result"
    }
   ],
   "source": [
    "# Show the first 5 rows in the dataset \n",
    "\n",
    "df.head()"
   ]
  },
  {
   "cell_type": "code",
   "execution_count": 4,
   "id": "04f990df",
   "metadata": {},
   "outputs": [
    {
     "name": "stdout",
     "output_type": "stream",
     "text": [
      "<class 'pandas.core.frame.DataFrame'>\n",
      "RangeIndex: 299 entries, 0 to 298\n",
      "Data columns (total 13 columns):\n",
      " #   Column                    Non-Null Count  Dtype  \n",
      "---  ------                    --------------  -----  \n",
      " 0   age                       299 non-null    float64\n",
      " 1   anaemia                   299 non-null    int64  \n",
      " 2   creatinine_phosphokinase  299 non-null    int64  \n",
      " 3   diabetes                  299 non-null    int64  \n",
      " 4   ejection_fraction         299 non-null    int64  \n",
      " 5   high_blood_pressure       299 non-null    int64  \n",
      " 6   platelets                 299 non-null    float64\n",
      " 7   serum_creatinine          299 non-null    float64\n",
      " 8   serum_sodium              299 non-null    int64  \n",
      " 9   sex                       299 non-null    int64  \n",
      " 10  smoking                   299 non-null    int64  \n",
      " 11  time                      299 non-null    int64  \n",
      " 12  DEATH_EVENT               299 non-null    int64  \n",
      "dtypes: float64(3), int64(10)\n",
      "memory usage: 30.5 KB\n"
     ]
    }
   ],
   "source": [
    " # Show more data info including columns, data types, any missing data\n",
    "df.info()"
   ]
  },
  {
   "cell_type": "markdown",
   "id": "6cc23866",
   "metadata": {},
   "source": [
    " From the code above, we can see the dataset has (13) columns or features, (299) rows or observations, and contains no missing observations. "
   ]
  },
  {
   "cell_type": "markdown",
   "id": "895ef795",
   "metadata": {},
   "source": [
    "# Heart Failure Prediction(No Feature Scaling) "
   ]
  },
  {
   "cell_type": "markdown",
   "id": "de5ef5d3",
   "metadata": {},
   "source": [
    "### Feature Extraction \n",
    "\n",
    "First, we'll identify the target and feature variables for the classification task\n",
    "\n",
    "Target variable: \n",
    "\n",
    "* [0] = No Death \n",
    "* [1] = Death "
   ]
  },
  {
   "cell_type": "code",
   "execution_count": 6,
   "id": "80afeddd",
   "metadata": {},
   "outputs": [],
   "source": [
    "target = 'DEATH_EVENT'\n",
    "\n",
    "# Target variable\n",
    "y = df['DEATH_EVENT']\n",
    "\n",
    "# Feature variable\n",
    "X = df.drop(columns = target)"
   ]
  },
  {
   "cell_type": "code",
   "execution_count": 7,
   "id": "d776eba8",
   "metadata": {},
   "outputs": [
    {
     "data": {
      "text/plain": [
       "138    0\n",
       "229    0\n",
       "135    0\n",
       "217    1\n",
       "170    0\n",
       "Name: DEATH_EVENT, dtype: int64"
      ]
     },
     "execution_count": 7,
     "metadata": {},
     "output_type": "execute_result"
    }
   ],
   "source": [
    "#target column \n",
    "y.sample(5)"
   ]
  },
  {
   "cell_type": "code",
   "execution_count": 8,
   "id": "c55c3faf",
   "metadata": {},
   "outputs": [
    {
     "data": {
      "text/html": [
       "<div>\n",
       "<style scoped>\n",
       "    .dataframe tbody tr th:only-of-type {\n",
       "        vertical-align: middle;\n",
       "    }\n",
       "\n",
       "    .dataframe tbody tr th {\n",
       "        vertical-align: top;\n",
       "    }\n",
       "\n",
       "    .dataframe thead th {\n",
       "        text-align: right;\n",
       "    }\n",
       "</style>\n",
       "<table border=\"1\" class=\"dataframe\">\n",
       "  <thead>\n",
       "    <tr style=\"text-align: right;\">\n",
       "      <th></th>\n",
       "      <th>age</th>\n",
       "      <th>anaemia</th>\n",
       "      <th>creatinine_phosphokinase</th>\n",
       "      <th>diabetes</th>\n",
       "      <th>ejection_fraction</th>\n",
       "      <th>high_blood_pressure</th>\n",
       "      <th>platelets</th>\n",
       "      <th>serum_creatinine</th>\n",
       "      <th>serum_sodium</th>\n",
       "      <th>sex</th>\n",
       "      <th>smoking</th>\n",
       "      <th>time</th>\n",
       "    </tr>\n",
       "  </thead>\n",
       "  <tbody>\n",
       "    <tr>\n",
       "      <th>0</th>\n",
       "      <td>75.0</td>\n",
       "      <td>0</td>\n",
       "      <td>582</td>\n",
       "      <td>0</td>\n",
       "      <td>20</td>\n",
       "      <td>1</td>\n",
       "      <td>265000.00</td>\n",
       "      <td>1.9</td>\n",
       "      <td>130</td>\n",
       "      <td>1</td>\n",
       "      <td>0</td>\n",
       "      <td>4</td>\n",
       "    </tr>\n",
       "    <tr>\n",
       "      <th>1</th>\n",
       "      <td>55.0</td>\n",
       "      <td>0</td>\n",
       "      <td>7861</td>\n",
       "      <td>0</td>\n",
       "      <td>38</td>\n",
       "      <td>0</td>\n",
       "      <td>263358.03</td>\n",
       "      <td>1.1</td>\n",
       "      <td>136</td>\n",
       "      <td>1</td>\n",
       "      <td>0</td>\n",
       "      <td>6</td>\n",
       "    </tr>\n",
       "    <tr>\n",
       "      <th>2</th>\n",
       "      <td>65.0</td>\n",
       "      <td>0</td>\n",
       "      <td>146</td>\n",
       "      <td>0</td>\n",
       "      <td>20</td>\n",
       "      <td>0</td>\n",
       "      <td>162000.00</td>\n",
       "      <td>1.3</td>\n",
       "      <td>129</td>\n",
       "      <td>1</td>\n",
       "      <td>1</td>\n",
       "      <td>7</td>\n",
       "    </tr>\n",
       "    <tr>\n",
       "      <th>3</th>\n",
       "      <td>50.0</td>\n",
       "      <td>1</td>\n",
       "      <td>111</td>\n",
       "      <td>0</td>\n",
       "      <td>20</td>\n",
       "      <td>0</td>\n",
       "      <td>210000.00</td>\n",
       "      <td>1.9</td>\n",
       "      <td>137</td>\n",
       "      <td>1</td>\n",
       "      <td>0</td>\n",
       "      <td>7</td>\n",
       "    </tr>\n",
       "    <tr>\n",
       "      <th>4</th>\n",
       "      <td>65.0</td>\n",
       "      <td>1</td>\n",
       "      <td>160</td>\n",
       "      <td>1</td>\n",
       "      <td>20</td>\n",
       "      <td>0</td>\n",
       "      <td>327000.00</td>\n",
       "      <td>2.7</td>\n",
       "      <td>116</td>\n",
       "      <td>0</td>\n",
       "      <td>0</td>\n",
       "      <td>8</td>\n",
       "    </tr>\n",
       "  </tbody>\n",
       "</table>\n",
       "</div>"
      ],
      "text/plain": [
       "    age  anaemia  creatinine_phosphokinase  diabetes  ejection_fraction  \\\n",
       "0  75.0        0                       582         0                 20   \n",
       "1  55.0        0                      7861         0                 38   \n",
       "2  65.0        0                       146         0                 20   \n",
       "3  50.0        1                       111         0                 20   \n",
       "4  65.0        1                       160         1                 20   \n",
       "\n",
       "   high_blood_pressure  platelets  serum_creatinine  serum_sodium  sex  \\\n",
       "0                    1  265000.00               1.9           130    1   \n",
       "1                    0  263358.03               1.1           136    1   \n",
       "2                    0  162000.00               1.3           129    1   \n",
       "3                    0  210000.00               1.9           137    1   \n",
       "4                    0  327000.00               2.7           116    0   \n",
       "\n",
       "   smoking  time  \n",
       "0        0     4  \n",
       "1        0     6  \n",
       "2        1     7  \n",
       "3        0     7  \n",
       "4        0     8  "
      ]
     },
     "execution_count": 8,
     "metadata": {},
     "output_type": "execute_result"
    }
   ],
   "source": [
    "# Features \n",
    "X.head()"
   ]
  },
  {
   "cell_type": "markdown",
   "id": "ad7226a3",
   "metadata": {},
   "source": [
    "### Split Train and Test Data "
   ]
  },
  {
   "cell_type": "code",
   "execution_count": 9,
   "id": "f35319d8",
   "metadata": {},
   "outputs": [],
   "source": [
    "# Divide the dataset into train and test proportions \n",
    "X_train, X_test, y_train, y_test = train_test_split(X, y, test_size = 0.2, random_state = 42 )"
   ]
  },
  {
   "cell_type": "code",
   "execution_count": 10,
   "id": "5d02180f",
   "metadata": {},
   "outputs": [
    {
     "name": "stdout",
     "output_type": "stream",
     "text": [
      "(299, 12) (239, 12) (60, 12)\n"
     ]
    }
   ],
   "source": [
    "# Show train and test data proportions \n",
    "\n",
    "print(X.shape, X_train.shape, X_test.shape)"
   ]
  },
  {
   "cell_type": "markdown",
   "id": "8a15722b",
   "metadata": {},
   "source": [
    "### Models Training "
   ]
  },
  {
   "cell_type": "code",
   "execution_count": 11,
   "id": "4549905f",
   "metadata": {},
   "outputs": [],
   "source": [
    "# Put models in a dictionary \n",
    "models = {\n",
    "    'Logistic Regression': LogisticRegression(multi_class='multinomial', solver='lbfgs', max_iter=200), \n",
    "    'Decision Tree': DecisionTreeClassifier(random_state = 32),\n",
    "    'Random Forest': RandomForestClassifier(n_estimators=100, random_state = 30),\n",
    "    'K Nearest Neighbor ': KNeighborsClassifier(), \n",
    "    'Support Vector Machine': SVC(kernel='linear', random_state=32) \n",
    "}"
   ]
  },
  {
   "cell_type": "code",
   "execution_count": 12,
   "id": "f8ccfcba",
   "metadata": {},
   "outputs": [
    {
     "name": "stdout",
     "output_type": "stream",
     "text": [
      "Model Name: Logistic Regression\n",
      "Accuracy: 0.8\n",
      "Classification Report:               precision    recall  f1-score   support\n",
      "\n",
      "           0       0.94      0.77      0.85        43\n",
      "           1       0.60      0.88      0.71        17\n",
      "\n",
      "    accuracy                           0.80        60\n",
      "   macro avg       0.77      0.82      0.78        60\n",
      "weighted avg       0.85      0.80      0.81        60\n",
      "\n",
      "=======================================================\n",
      "Model Name: Decision Tree\n",
      "Accuracy: 0.65\n",
      "Classification Report:               precision    recall  f1-score   support\n",
      "\n",
      "           0       0.80      0.67      0.73        42\n",
      "           1       0.44      0.61      0.51        18\n",
      "\n",
      "    accuracy                           0.65        60\n",
      "   macro avg       0.62      0.64      0.62        60\n",
      "weighted avg       0.69      0.65      0.66        60\n",
      "\n",
      "=======================================================\n",
      "Model Name: Random Forest\n",
      "Accuracy: 0.73\n",
      "Classification Report:               precision    recall  f1-score   support\n",
      "\n",
      "           0       0.97      0.69      0.81        49\n",
      "           1       0.40      0.91      0.56        11\n",
      "\n",
      "    accuracy                           0.73        60\n",
      "   macro avg       0.69      0.80      0.68        60\n",
      "weighted avg       0.87      0.73      0.76        60\n",
      "\n",
      "=======================================================\n",
      "Model Name: K Nearest Neighbor \n",
      "Accuracy: 0.53\n",
      "Classification Report:               precision    recall  f1-score   support\n",
      "\n",
      "           0       0.86      0.57      0.68        53\n",
      "           1       0.08      0.29      0.12         7\n",
      "\n",
      "    accuracy                           0.53        60\n",
      "   macro avg       0.47      0.43      0.40        60\n",
      "weighted avg       0.77      0.53      0.62        60\n",
      "\n",
      "=======================================================\n",
      "Model Name: Support Vector Machine\n",
      "Accuracy: 0.75\n",
      "Classification Report:               precision    recall  f1-score   support\n",
      "\n",
      "           0       0.91      0.73      0.81        44\n",
      "           1       0.52      0.81      0.63        16\n",
      "\n",
      "    accuracy                           0.75        60\n",
      "   macro avg       0.72      0.77      0.72        60\n",
      "weighted avg       0.81      0.75      0.76        60\n",
      "\n",
      "=======================================================\n"
     ]
    }
   ],
   "source": [
    "# Train the models, print accuracy and classification report \n",
    "\n",
    "for model_name, model in models.items():\n",
    "    model.fit(X_train, y_train)\n",
    "    y_pred = model.predict(X_test)\n",
    "    \n",
    "    accuracy = round(accuracy_score(y_pred,y_test),2)\n",
    "    report = classification_report(y_pred,y_test)\n",
    "    \n",
    "    print('Model Name:', model_name)\n",
    "    print('Accuracy:', accuracy)\n",
    "    print('Classification Report:',report)\n",
    "    print('='*55)"
   ]
  },
  {
   "cell_type": "markdown",
   "id": "3c8f489b",
   "metadata": {},
   "source": [
    "# Heart Failure Prediction(with Feature Scaling) "
   ]
  },
  {
   "cell_type": "markdown",
   "id": "aad6db5f",
   "metadata": {},
   "source": [
    "### Feature Scaling:\n",
    "Is the process of **standardizing** features variables in your dataset so\n",
    "that they are on a similar scale. This ensures that no single feature dominates others due to its scale or magnitude, \n",
    "which can be particularly important for certain machine learning algorithms as it can **improve model performance.** \n",
    "\n",
    "**Needs Feature Scaling**: Logistic Regression, K-Nearest Neighbor, Support Vector Machine\n",
    "\n",
    "**Does Not Need Scaling**: Decision Tree, Random Forest"
   ]
  },
  {
   "cell_type": "code",
   "execution_count": 13,
   "id": "af010b38",
   "metadata": {},
   "outputs": [],
   "source": [
    "# Standardize the features\n",
    "scaler = StandardScaler() \n",
    "\n",
    "X_train_scaled = scaler.fit_transform(X_train)\n",
    "X_test_scaled = scaler.transform(X_test)"
   ]
  },
  {
   "cell_type": "code",
   "execution_count": 14,
   "id": "3a075a3f",
   "metadata": {},
   "outputs": [
    {
     "name": "stdout",
     "output_type": "stream",
     "text": [
      "Model Name: Logistic Regression\n",
      "Accuracy: 0.8\n",
      "Classification Report:               precision    recall  f1-score   support\n",
      "\n",
      "           0       0.97      0.76      0.85        45\n",
      "           1       0.56      0.93      0.70        15\n",
      "\n",
      "    accuracy                           0.80        60\n",
      "   macro avg       0.77      0.84      0.78        60\n",
      "weighted avg       0.87      0.80      0.81        60\n",
      "\n",
      "=======================================================\n",
      "Model Name: Decision Tree\n",
      "Accuracy: 0.65\n",
      "Classification Report:               precision    recall  f1-score   support\n",
      "\n",
      "           0       0.80      0.67      0.73        42\n",
      "           1       0.44      0.61      0.51        18\n",
      "\n",
      "    accuracy                           0.65        60\n",
      "   macro avg       0.62      0.64      0.62        60\n",
      "weighted avg       0.69      0.65      0.66        60\n",
      "\n",
      "=======================================================\n",
      "Model Name: Random Forest\n",
      "Accuracy: 0.73\n",
      "Classification Report:               precision    recall  f1-score   support\n",
      "\n",
      "           0       0.97      0.69      0.81        49\n",
      "           1       0.40      0.91      0.56        11\n",
      "\n",
      "    accuracy                           0.73        60\n",
      "   macro avg       0.69      0.80      0.68        60\n",
      "weighted avg       0.87      0.73      0.76        60\n",
      "\n",
      "=======================================================\n",
      "Model Name: K Nearest Neighbor \n",
      "Accuracy: 0.68\n",
      "Classification Report:               precision    recall  f1-score   support\n",
      "\n",
      "           0       0.97      0.65      0.78        52\n",
      "           1       0.28      0.88      0.42         8\n",
      "\n",
      "    accuracy                           0.68        60\n",
      "   macro avg       0.63      0.76      0.60        60\n",
      "weighted avg       0.88      0.68      0.73        60\n",
      "\n",
      "=======================================================\n",
      "Model Name: Support Vector Machine\n",
      "Accuracy: 0.8\n",
      "Classification Report:               precision    recall  f1-score   support\n",
      "\n",
      "           0       0.94      0.77      0.85        43\n",
      "           1       0.60      0.88      0.71        17\n",
      "\n",
      "    accuracy                           0.80        60\n",
      "   macro avg       0.77      0.82      0.78        60\n",
      "weighted avg       0.85      0.80      0.81        60\n",
      "\n",
      "=======================================================\n"
     ]
    }
   ],
   "source": [
    "# Train the models after feature scaling, print accuracy and classification report \n",
    "\n",
    "for model_name, model in models.items():\n",
    "    if model_name == 'Decision Tree' or model_name == 'Random Forest':\n",
    "        model.fit(X_train, y_train)\n",
    "        x_test_used = X_test\n",
    "    else: \n",
    "        model.fit(X_train_scaled, y_train)\n",
    "        x_test_used = X_test_scaled\n",
    " \n",
    "    y_pred = model.predict(x_test_used)\n",
    "     \n",
    "    accuracy = round(accuracy_score(y_pred,y_test),2)\n",
    "    report = classification_report(y_pred,y_test)\n",
    "    \n",
    "    print('Model Name:', model_name)\n",
    "    print('Accuracy:', accuracy)\n",
    "    print('Classification Report:',report)\n",
    "    print('='*55)"
   ]
  },
  {
   "cell_type": "markdown",
   "id": "9bb3b01c",
   "metadata": {},
   "source": [
    " From the results, we can that **feature scaling** improved model performance for **KNN and SVM** models \n",
    " \n",
    "* KNN: from 0.53 to 0.68 \n",
    "\n",
    "* SVM: from 0.75 to 0.80 "
   ]
  },
  {
   "cell_type": "code",
   "execution_count": 15,
   "id": "310fd8e8",
   "metadata": {},
   "outputs": [
    {
     "name": "stdout",
     "output_type": "stream",
     "text": [
      "Model Name: Logistic Regression\n",
      "Accuracy: 0.8\n",
      "=======================================================\n",
      "Model Name: Decision Tree\n",
      "Accuracy: 0.65\n",
      "=======================================================\n",
      "Model Name: Random Forest\n",
      "Accuracy: 0.73\n",
      "=======================================================\n",
      "Model Name: K Nearest Neighbor \n",
      "Accuracy: 0.53\n",
      "=======================================================\n",
      "Model Name: Support Vector Machine\n",
      "Accuracy: 0.75\n",
      "=======================================================\n"
     ]
    }
   ],
   "source": [
    "# Accuracy Scores Without Feature Scaling \n",
    "\n",
    "for model_name, model in models.items():\n",
    "    \n",
    "    model.fit(X_train, y_train)\n",
    "    y_pred = model.predict(X_test)\n",
    "    \n",
    "    accuracy = round(accuracy_score(y_pred,y_test),2)\n",
    "   \n",
    "    print('Model Name:', model_name)\n",
    "    print('Accuracy:', accuracy)\n",
    " \n",
    "    print('='*55)"
   ]
  },
  {
   "cell_type": "code",
   "execution_count": 16,
   "id": "f9cdf938",
   "metadata": {},
   "outputs": [
    {
     "name": "stdout",
     "output_type": "stream",
     "text": [
      "Model Name: Logistic Regression\n",
      "Accuracy: 0.8\n",
      "=======================================================\n",
      "Model Name: Decision Tree\n",
      "Accuracy: 0.65\n",
      "=======================================================\n",
      "Model Name: Random Forest\n",
      "Accuracy: 0.73\n",
      "=======================================================\n",
      "Model Name: K Nearest Neighbor \n",
      "Accuracy: 0.68\n",
      "=======================================================\n",
      "Model Name: Support Vector Machine\n",
      "Accuracy: 0.8\n",
      "=======================================================\n"
     ]
    }
   ],
   "source": [
    "# Accuracy Scores With Feature Scaling \n",
    "\n",
    "for model_name, model in models.items():\n",
    "    if model_name == 'Decision Tree' or model_name == 'Random Forest':\n",
    "        model.fit(X_train, y_train)\n",
    "        x_test_used = X_test\n",
    "    else: \n",
    "        model.fit(X_train_scaled, y_train)\n",
    "        x_test_used = X_test_scaled\n",
    " \n",
    "    y_pred = model.predict(x_test_used)\n",
    "     \n",
    "    accuracy = round(accuracy_score(y_pred,y_test),2)\n",
    "    \n",
    "    print('Model Name:', model_name)\n",
    "    print('Accuracy:', accuracy)\n",
    "    print('='*55)"
   ]
  },
  {
   "cell_type": "markdown",
   "id": "ead127c2",
   "metadata": {},
   "source": [
    "Choose a Prediction Model\n",
    "Let's choose either the logistic or SVM which have 0.8 or 80% accuracy\n"
   ]
  },
  {
   "cell_type": "code",
   "execution_count": 17,
   "id": "6a371fc2",
   "metadata": {},
   "outputs": [],
   "source": [
    "log_model = LogisticRegression(multi_class='multinomial', solver='lbfgs', max_iter=200)\n",
    "    \n",
    "log_model.fit(X_train, y_train)\n",
    "y_pred = log_model.predict(X_test)"
   ]
  },
  {
   "cell_type": "markdown",
   "id": "7b0e3b0e",
   "metadata": {},
   "source": [
    "Heart Failure Prediction Systems (Using Logistic Model)"
   ]
  },
  {
   "cell_type": "code",
   "execution_count": 18,
   "id": "2ff64ed5",
   "metadata": {},
   "outputs": [
    {
     "name": "stdout",
     "output_type": "stream",
     "text": [
      "[1]\n",
      "Risk of heart failure. Please seek urgent medical attention!\n"
     ]
    }
   ],
   "source": [
    "# Example input data from dataset \n",
    "\n",
    "input_data = (50,1,159,1,30,0,302000,1.2,138,0,0,29) \n",
    "\n",
    "# Convert the input data into a numpy array\n",
    "input_data_as_numpy = np.asarray(input_data)\n",
    "\n",
    "# Reshape the array since we are predicting for one instance\n",
    "input_data_reshape = input_data_as_numpy.reshape(1,-1)\n",
    "\n",
    "# Making prediction and printing the appropriate message\n",
    "prediction = log_model.predict(input_data_reshape)\n",
    "print(prediction)\n",
    "             \n",
    "if prediction[0] == 0:\n",
    "    print('Low risk of heart failure. However, remember to attend all regular health checks.')\n",
    "elif prediction[0] == 1:\n",
    "    print('Risk of heart failure. Please seek urgent medical attention!')\n",
    "else:\n",
    "    print('Error: Unexpected predicted value. Please enter correct data.')   "
   ]
  },
  {
   "cell_type": "code",
   "execution_count": 19,
   "id": "3ce7e67b",
   "metadata": {},
   "outputs": [
    {
     "name": "stdout",
     "output_type": "stream",
     "text": [
      "Raw prediction (class): [1]\n",
      "Prediction probabilities: [[0.4985544 0.5014456]]\n",
      "Probability of heart failure: 0.50\n",
      "Risk of heart failure. Please seek urgent medical attention!\n"
     ]
    }
   ],
   "source": [
    "#Create a function to predict \n",
    "\n",
    "def predict_heart_failure(input_data, log_model):\n",
    "    # Convert the input data into a numpy array\n",
    "    input_data_as_numpy = np.asarray(input_data)\n",
    "    # Reshape the array since we are predicting for one instance\n",
    "    input_data_reshape = input_data_as_numpy.reshape(1, -1)\n",
    "    \n",
    "    # Get both the class prediction and probability\n",
    "    prediction = log_model.predict(input_data_reshape)\n",
    "    probability = log_model.predict_proba(input_data_reshape)\n",
    "    \n",
    "    print(\"Raw prediction (class):\", prediction)\n",
    "    print(\"Prediction probabilities:\", probability)\n",
    "    print(f\"Probability of heart failure: {probability[0][1]:.2f}\")\n",
    "    \n",
    "    if prediction[0] == 1:\n",
    "        return 'Risk of heart failure. Please seek urgent medical attention!'\n",
    "    elif prediction[0] == 0:\n",
    "        return 'Low risk of heart failure. However, remember to attend all regular health checks.'\n",
    "    else:\n",
    "        return 'Error: unexpected prediction value.'\n",
    "\n",
    "# Example usage\n",
    "input_data = (60,1,607,0,40,0,216000,0.6,138,1,1,54)\n",
    "result = predict_heart_failure(input_data, log_model)\n",
    "print(result)"
   ]
  }
 ],
 "metadata": {
  "kernelspec": {
   "display_name": "Python 3 (ipykernel)",
   "language": "python",
   "name": "python3"
  },
  "language_info": {
   "codemirror_mode": {
    "name": "ipython",
    "version": 3
   },
   "file_extension": ".py",
   "mimetype": "text/x-python",
   "name": "python",
   "nbconvert_exporter": "python",
   "pygments_lexer": "ipython3",
   "version": "3.11.3"
  }
 },
 "nbformat": 4,
 "nbformat_minor": 5
}
